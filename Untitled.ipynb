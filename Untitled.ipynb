{
 "cells": [
  {
   "cell_type": "code",
   "execution_count": 1,
   "id": "08588ef6",
   "metadata": {},
   "outputs": [],
   "source": [
    "class player:\n",
    "    def __init__(self,name,char):\n",
    "        self.name=name\n",
    "        self.char=char\n",
    "    def new_game(self, ):\n",
    "        print(f'{self.name} is {self.char}')\n",
    "    def make_move(self, ):\n",
    "        move=input('enter your move: ')\n",
    "        return int(move)\n",
    "    def winner(self, ):\n",
    "        print(f'{self.name} is winner')"
   ]
  },
  {
   "cell_type": "code",
   "execution_count": 2,
   "id": "212623b0",
   "metadata": {},
   "outputs": [],
   "source": [
    "board=[' ']*9\n",
    "board[3]=89\n",
    "board[6]=76"
   ]
  },
  {
   "cell_type": "code",
   "execution_count": 3,
   "id": "a8e5e421",
   "metadata": {},
   "outputs": [
    {
     "data": {
      "text/plain": [
       "[' ', ' ', ' ', 89, ' ', ' ', 76, ' ', ' ']"
      ]
     },
     "execution_count": 3,
     "metadata": {},
     "output_type": "execute_result"
    }
   ],
   "source": [
    "board"
   ]
  },
  {
   "cell_type": "code",
   "execution_count": 4,
   "id": "9b829bca",
   "metadata": {},
   "outputs": [
    {
     "data": {
      "text/plain": [
       "[' ', ' ', ' ', ' ', ' ', ' ', ' ']"
      ]
     },
     "execution_count": 4,
     "metadata": {},
     "output_type": "execute_result"
    }
   ],
   "source": [
    "[x for x in board if x==' ']"
   ]
  },
  {
   "cell_type": "code",
   "execution_count": 5,
   "id": "49931f2a",
   "metadata": {},
   "outputs": [],
   "source": [
    "import random"
   ]
  },
  {
   "cell_type": "code",
   "execution_count": 6,
   "id": "3afaf153",
   "metadata": {},
   "outputs": [],
   "source": [
    "class tictactoe:\n",
    "    def __init__(self,player1,player2):\n",
    "        self.player1=player1\n",
    "        self.player2=player2\n",
    "        self.board=[' ']*9\n",
    "        self.player1_turn= random.choice([True,False])\n",
    "        \n",
    "    def print_board(self, ):\n",
    "        b=self.board\n",
    "        board=f\"\"\"\n",
    "        {b[0]}|{b[1]}|{b[2]}\n",
    "        ------------\n",
    "        {b[3]}|{b[4]}|{b[5]}\n",
    "        ------------\n",
    "        {b[6]}|{b[7]}|{b[8]}\n",
    "        ------------\n",
    "        \"\"\"\n",
    "        print(board)\n",
    "        \n",
    "    def check_winner(self,char):\n",
    "        b=self.board\n",
    "        winner= False\n",
    "        conditions=(\n",
    "            (0,1,2),(3,4,5),(6,7,8),\n",
    "            (0,3,6),(1,4,7),(2,5,8),\n",
    "            (0,4,8),(2,4,6)\n",
    "        )\n",
    "        for each_condition in conditions:\n",
    "            i1,i2,i3=each_condition\n",
    "            #i1,i2,i3=each_condition[0],each_condition[1],...\n",
    "            if char==b[i1]==b[i2]==b[i3]:\n",
    "                winner=True\n",
    "                break\n",
    "                \n",
    "        return winner\n",
    "\n",
    "    \n",
    "    def check_full(self,):\n",
    "        emptys=[x for x in self.board if x==' ']\n",
    "        if len(emptys)==0:\n",
    "            return True\n",
    "        return False\n",
    "        \n",
    "    def play(self, ):\n",
    "        self.player1.new_game()\n",
    "        self.player2.new_game()\n",
    "        while True:\n",
    "            #check turn\n",
    "            if self.player1_turn:\n",
    "                player=self.player1\n",
    "            else:\n",
    "                player=self.player2\n",
    "            #ask for moves\n",
    "            print(f'{player.name}Turn')\n",
    "            self.print_board()\n",
    "            move=player.make_move()\n",
    "            #check valid\n",
    "            if move<0 or move>8:\n",
    "                print('invalid move,out of range!!!')\n",
    "                continue #esle chai mathi loop feri garaucha\n",
    "            if self.board[move]!=' ':\n",
    "                print('invalid move,space already filled!!')\n",
    "                continue\n",
    "            #put char\n",
    "            self.board[move]=player.char\n",
    "            #check win\n",
    "            win=self.check_winner(player.char)\n",
    "            if win:\n",
    "                self.print_board()\n",
    "                player.winner()\n",
    "                break\n",
    "            #check full(draw)\n",
    "            full=self.check_full()\n",
    "            if full:\n",
    "                print('game ended ad draw')\n",
    "                self.print_board()\n",
    "                break\n",
    "            #swap turn\n",
    "            self.player1_turn=not self.player1_turn"
   ]
  },
  {
   "cell_type": "code",
   "execution_count": 7,
   "id": "ab0b5fec",
   "metadata": {},
   "outputs": [],
   "source": [
    "p1=player('kaji saap','k')\n",
    "p2=player('maii saap','M')"
   ]
  },
  {
   "cell_type": "code",
   "execution_count": 9,
   "id": "f24589e1",
   "metadata": {},
   "outputs": [
    {
     "name": "stdout",
     "output_type": "stream",
     "text": [
      "kaji saap is k\n",
      "maii saap is M\n",
      "kaji saapTurn\n",
      "\n",
      "         | | \n",
      "        ------------\n",
      "         | | \n",
      "        ------------\n",
      "         | | \n",
      "        ------------\n",
      "        \n",
      "enter your move: 5\n",
      "maii saapTurn\n",
      "\n",
      "         | | \n",
      "        ------------\n",
      "         | |k\n",
      "        ------------\n",
      "         | | \n",
      "        ------------\n",
      "        \n",
      "enter your move: 2\n",
      "kaji saapTurn\n",
      "\n",
      "         | |M\n",
      "        ------------\n",
      "         | |k\n",
      "        ------------\n",
      "         | | \n",
      "        ------------\n",
      "        \n",
      "enter your move: 6\n",
      "maii saapTurn\n",
      "\n",
      "         | |M\n",
      "        ------------\n",
      "         | |k\n",
      "        ------------\n",
      "        k| | \n",
      "        ------------\n",
      "        \n",
      "enter your move: 2\n",
      "invalid move,space already filled!!\n",
      "maii saapTurn\n",
      "\n",
      "         | |M\n",
      "        ------------\n",
      "         | |k\n",
      "        ------------\n",
      "        k| | \n",
      "        ------------\n",
      "        \n",
      "enter your move: 1\n",
      "kaji saapTurn\n",
      "\n",
      "         |M|M\n",
      "        ------------\n",
      "         | |k\n",
      "        ------------\n",
      "        k| | \n",
      "        ------------\n",
      "        \n",
      "enter your move: 0\n",
      "maii saapTurn\n",
      "\n",
      "        k|M|M\n",
      "        ------------\n",
      "         | |k\n",
      "        ------------\n",
      "        k| | \n",
      "        ------------\n",
      "        \n",
      "enter your move: 8\n",
      "kaji saapTurn\n",
      "\n",
      "        k|M|M\n",
      "        ------------\n",
      "         | |k\n",
      "        ------------\n",
      "        k| |M\n",
      "        ------------\n",
      "        \n",
      "enter your move: 7\n",
      "maii saapTurn\n",
      "\n",
      "        k|M|M\n",
      "        ------------\n",
      "         | |k\n",
      "        ------------\n",
      "        k|k|M\n",
      "        ------------\n",
      "        \n",
      "enter your move: 4\n",
      "kaji saapTurn\n",
      "\n",
      "        k|M|M\n",
      "        ------------\n",
      "         |M|k\n",
      "        ------------\n",
      "        k|k|M\n",
      "        ------------\n",
      "        \n",
      "enter your move: 3\n",
      "\n",
      "        k|M|M\n",
      "        ------------\n",
      "        k|M|k\n",
      "        ------------\n",
      "        k|k|M\n",
      "        ------------\n",
      "        \n",
      "kaji saap is winner\n"
     ]
    }
   ],
   "source": [
    "game=tictactoe(p1,p2)\n",
    "game.play()"
   ]
  },
  {
   "cell_type": "code",
   "execution_count": null,
   "id": "b93d3f83",
   "metadata": {},
   "outputs": [],
   "source": []
  }
 ],
 "metadata": {
  "kernelspec": {
   "display_name": "Python 3 (ipykernel)",
   "language": "python",
   "name": "python3"
  },
  "language_info": {
   "codemirror_mode": {
    "name": "ipython",
    "version": 3
   },
   "file_extension": ".py",
   "mimetype": "text/x-python",
   "name": "python",
   "nbconvert_exporter": "python",
   "pygments_lexer": "ipython3",
   "version": "3.11.5"
  }
 },
 "nbformat": 4,
 "nbformat_minor": 5
}
